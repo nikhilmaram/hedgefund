{
 "cells": [
  {
   "cell_type": "code",
   "execution_count": 1,
   "metadata": {},
   "outputs": [],
   "source": [
    "import sys\n",
    "sys.path.append(\"../src_code/\")"
   ]
  },
  {
   "cell_type": "code",
   "execution_count": 2,
   "metadata": {},
   "outputs": [
    {
     "data": {
      "text/plain": [
       "['',\n",
       " '/anaconda3/lib/python36.zip',\n",
       " '/anaconda3/lib/python3.6',\n",
       " '/anaconda3/lib/python3.6/lib-dynload',\n",
       " '/anaconda3/lib/python3.6/site-packages',\n",
       " '/anaconda3/lib/python3.6/site-packages/aeosa',\n",
       " '/anaconda3/lib/python3.6/site-packages/IPython/extensions',\n",
       " '/Users/sainikhilmaram/.ipython',\n",
       " '../src_code/']"
      ]
     },
     "execution_count": 2,
     "metadata": {},
     "output_type": "execute_result"
    }
   ],
   "source": [
    "sys.path"
   ]
  },
  {
   "cell_type": "code",
   "execution_count": 3,
   "metadata": {},
   "outputs": [],
   "source": [
    "import employee\n",
    "import config as cfg\n",
    "import pandas as pd\n",
    "import matplotlib.pyplot as plt\n",
    "import os\n",
    "from datetime import datetime\n",
    "import misc"
   ]
  },
  {
   "cell_type": "markdown",
   "metadata": {},
   "source": [
    "## Employees present in Trader Book Account but not in Employee Master"
   ]
  },
  {
   "cell_type": "code",
   "execution_count": 4,
   "metadata": {},
   "outputs": [],
   "source": [
    "account_to_employee_dict,employee_to_account_dict = employee.map_employee_account(cfg.TRADER_BOOK_ACCOUNT_FILE)"
   ]
  },
  {
   "cell_type": "code",
   "execution_count": 5,
   "metadata": {},
   "outputs": [],
   "source": [
    "emp_dict = employee.get_emplpoyees_from_file(cfg.EMPLOYEE_MASTER_FILE)"
   ]
  },
  {
   "cell_type": "code",
   "execution_count": 6,
   "metadata": {},
   "outputs": [],
   "source": [
    "employee_list = emp_dict.keys()\n",
    "employee_account_list = employee_to_account_dict.keys()"
   ]
  },
  {
   "cell_type": "code",
   "execution_count": 7,
   "metadata": {},
   "outputs": [
    {
     "data": {
      "text/plain": [
       "['salzman_glen', 'narayan_mahesh', 'bennett_geoff', 'chalson_jeff']"
      ]
     },
     "execution_count": 7,
     "metadata": {},
     "output_type": "execute_result"
    }
   ],
   "source": [
    "## Employees not present in employee list but has accounts.\n",
    "list(set(employee_account_list) - set(employee_list))"
   ]
  },
  {
   "cell_type": "code",
   "execution_count": null,
   "metadata": {},
   "outputs": [],
   "source": []
  },
  {
   "cell_type": "markdown",
   "metadata": {},
   "source": [
    "## Plots number of postive to negative messages"
   ]
  },
  {
   "cell_type": "code",
   "execution_count": 8,
   "metadata": {},
   "outputs": [],
   "source": [
    "#df = pd.read_csv(cfg.SENTIMENT_PERSONAL+\"/im_df_week250.csv\")"
   ]
  },
  {
   "cell_type": "code",
   "execution_count": 9,
   "metadata": {},
   "outputs": [],
   "source": [
    "def sentiment_ratio(df):\n",
    "    num_positive_messages = len(df[df[\"sentiment\"] == 1])\n",
    "    num_negative_messages = len(df[df[\"sentiment\"] == -1])\n",
    "    num_zero_messages = len(df[df[\"sentiment\"] == 0])\n",
    "#     ratio = (num_positive_messages+num_zero_messages)/(num_negative_messages+1)\n",
    "    ratio = (num_positive_messages)/(num_negative_messages+1)\n",
    "    return ratio\n"
   ]
  },
  {
   "cell_type": "code",
   "execution_count": 10,
   "metadata": {},
   "outputs": [],
   "source": [
    "#sentiment_ratio(df)"
   ]
  },
  {
   "cell_type": "code",
   "execution_count": 11,
   "metadata": {},
   "outputs": [],
   "source": [
    "def plot_sentiment_ratio(dir_path):\n",
    "    sentiment_ratio_list = []\n",
    "    week_list = range(0,265)\n",
    "    for (dirpath, dirnames, filenames) in os.walk(dir_path):\n",
    "        for filename in filenames:\n",
    "#             print(filename)\n",
    "            if filename.startswith(\"im_df\"):\n",
    "                df = pd.read_csv(dir_path + \"/\" + filename)\n",
    "                sentiment_ratio_list.append(sentiment_ratio(df))\n",
    "    return sentiment_ratio_list, week_list\n",
    "            "
   ]
  },
  {
   "cell_type": "code",
   "execution_count": 12,
   "metadata": {},
   "outputs": [],
   "source": [
    "#sentiment_ratio_list, week_list = plot_sentiment_ratio(cfg.SENTIMENT_BUSINESS)"
   ]
  },
  {
   "cell_type": "code",
   "execution_count": 13,
   "metadata": {},
   "outputs": [],
   "source": [
    "#plt.plot(range(253),sentiment_ratio_list)\n",
    "#plt.show()"
   ]
  },
  {
   "cell_type": "code",
   "execution_count": 14,
   "metadata": {},
   "outputs": [],
   "source": [
    "#sentiment_ratio_list, week_list = plot_sentiment_ratio(cfg.SENTIMENT_PERSONAL)"
   ]
  },
  {
   "cell_type": "code",
   "execution_count": 15,
   "metadata": {},
   "outputs": [],
   "source": [
    "#plt.plot(range(253),sentiment_ratio_list)\n",
    "#plt.show()"
   ]
  },
  {
   "cell_type": "markdown",
   "metadata": {},
   "source": [
    "## Print dates in each file"
   ]
  },
  {
   "cell_type": "code",
   "execution_count": 16,
   "metadata": {},
   "outputs": [],
   "source": [
    "def print_dates_in_weekly_im(dir_path):\n",
    "    sentiment_ratio_list = []\n",
    "    file_name_list = []\n",
    "    for (dirpath, dirnames, filenames) in os.walk(dir_path):\n",
    "        for filename in filenames:\n",
    "            if filename.startswith(\"im_df\"):\n",
    "                file_name_list.append(filename)\n",
    "#     f = lambda x: int(x.split('.')[0].split('_')[-1][4:]\n",
    "    file_name_list = sorted(file_name_list,key=lambda x: int(x.split('.')[0].split('_')[-1][4:]))\n",
    "    for filename in file_name_list:\n",
    "        week_num = int(filename.split('.')[0].split('_')[-1][4:])\n",
    "        df = pd.read_csv(dir_path + \"/\" + filename)\n",
    "        df_daily_dict = misc.df_week_df_day(df)\n",
    "        print(\"Week Num : {0}, Dates: {1}\".format(week_num,df_daily_dict.keys()))\n",
    "        "
   ]
  },
  {
   "cell_type": "code",
   "execution_count": 17,
   "metadata": {},
   "outputs": [],
   "source": [
    "#print_dates_in_weekly_im(cfg.SENTIMENT_BUSINESS)"
   ]
  },
  {
   "cell_type": "markdown",
   "metadata": {},
   "source": [
    "## Split the data into weekly data (original week files might have data from some other dates)"
   ]
  },
  {
   "cell_type": "code",
   "execution_count": 18,
   "metadata": {},
   "outputs": [],
   "source": [
    "def have_weekly_data_in_weekly_file(src_dir_path,dst_dir_path):\n",
    "    sentiment_ratio_list = []\n",
    "    file_name_list = []\n",
    "    for (dirpath, dirnames, filenames) in os.walk(src_dir_path):\n",
    "        for filename in filenames:\n",
    "            if filename.startswith(\"im_df\"):\n",
    "                file_name_list.append(filename)\n",
    "\n",
    "    file_name_list = sorted(file_name_list,key=lambda x: int(x.split('.')[0].split('_')[-1][4:]))\n",
    "    for filename in file_name_list:\n",
    "        curr_week = int(filename.split('.')[0].split('_')[-1][4:])\n",
    "        next_week = curr_week + 1\n",
    "        filename_next_week = \"im_df_week{0}.csv\".format(next_week)\n",
    "#         print(filename,filename_next_week)\n",
    "        try:\n",
    "            df_curr_week = pd.read_csv(os.path.join(src_dir_path ,filename))\n",
    "    #             print(df_curr_week)\n",
    "            df_next_week = pd.read_csv(os.path.join(src_dir_path ,filename_next_week))\n",
    "    #             print(df_next_week)\n",
    "            df = pd.concat([df_curr_week,df_next_week])\n",
    "            df[\"day\"] = df[\"day\"].apply(lambda x: datetime.strptime(x, '%m-%d-%Y'))\n",
    "    #             print(df)\n",
    "            df[\"week\"] = df[\"day\"].apply(lambda x : misc.calculate_week(x.date()))\n",
    "            df = df[df[\"week\"] == curr_week]\n",
    "            df = df[[\"sender_user_name\",\"receiver_user_name\",\"content\",\"time_stamp\",\"day\",\"sender_in_network\",\"receiver_in_network\",\"classify\",\"sentiment\"]]\n",
    "            df.to_csv(dst_dir_path + \"/\" + filename)\n",
    "            \n",
    "        except:\n",
    "            print(\"File doesn't exist\")\n",
    "\n",
    "        \n",
    "        \n",
    "#         df_daily_dict = misc.df_week_df_day(df)\n",
    "#         print(\"Week Num : {0}, Dates: {1}\".format(week_num,df_daily_dict.keys()))"
   ]
  },
  {
   "cell_type": "code",
   "execution_count": 19,
   "metadata": {},
   "outputs": [],
   "source": [
    "#have_weekly_data_in_weekly_file(cfg.SENTIMENT_BUSINESS,\"../data/generated_data/temp_sentiment_business\")"
   ]
  },
  {
   "cell_type": "code",
   "execution_count": 20,
   "metadata": {},
   "outputs": [],
   "source": [
    "#have_weekly_data_in_weekly_file(cfg.SENTIMENT_PERSONAL,\"../data/generated_data/temp_sentiment_personal\")"
   ]
  },
  {
   "cell_type": "code",
   "execution_count": null,
   "metadata": {},
   "outputs": [],
   "source": []
  },
  {
   "cell_type": "markdown",
   "metadata": {},
   "source": [
    "## Generates joint network from personal and business."
   ]
  },
  {
   "cell_type": "code",
   "execution_count": 24,
   "metadata": {},
   "outputs": [],
   "source": [
    "def join_files(joint_path,business_path, personal_path,file_list):\n",
    "    for filename in file_list:\n",
    "        print(filename)\n",
    "        try:\n",
    "            personal_file = os.path.join(personal_path ,filename)\n",
    "            business_file = os.path.join(business_path ,filename)\n",
    "            joint_file = os.path.join(joint_path,filename)\n",
    "            business_df = pd.read_csv(business_file)\n",
    "            personal_df = pd.read_csv(personal_file)\n",
    "            df = pd.concat([business_df,personal_df])\n",
    "            df = df.sort_values(\"time_stamp\")\n",
    "            df.to_csv(joint_file)\n",
    "        except:\n",
    "            pass\n",
    "    "
   ]
  },
  {
   "cell_type": "code",
   "execution_count": 29,
   "metadata": {},
   "outputs": [
    {
     "name": "stdout",
     "output_type": "stream",
     "text": [
      "{'im_df_week39.csv'}\n"
     ]
    }
   ],
   "source": [
    "file_name_list1 = []\n",
    "for (dirpath, dirnames, filenames) in os.walk(cfg.SENTIMENT_BUSINESS):\n",
    "        for filename in filenames:\n",
    "            if filename.startswith(\"im_df\"):\n",
    "                file_name_list1.append(filename)\n",
    "                \n",
    "file_name_list2 = []\n",
    "for (dirpath, dirnames, filenames) in os.walk(cfg.SENTIMENT_PERSONAL):\n",
    "        for filename in filenames:\n",
    "            if filename.startswith(\"im_df\"):\n",
    "                file_name_list2.append(filename)\n",
    "file_name_list = set(file_name_list2) - set(file_name_list1)\n",
    "print((file_name_list))\n",
    "# join_files(cfg.SENTIMENT_JOINT,cfg.SENTIMENT_BUSINESS,cfg.SENTIMENT_PERSONAL,file_name_list)"
   ]
  },
  {
   "cell_type": "code",
   "execution_count": null,
   "metadata": {},
   "outputs": [],
   "source": []
  }
 ],
 "metadata": {
  "kernelspec": {
   "display_name": "Python 3",
   "language": "python",
   "name": "python3"
  },
  "language_info": {
   "codemirror_mode": {
    "name": "ipython",
    "version": 3
   },
   "file_extension": ".py",
   "mimetype": "text/x-python",
   "name": "python",
   "nbconvert_exporter": "python",
   "pygments_lexer": "ipython3",
   "version": "3.6.4"
  }
 },
 "nbformat": 4,
 "nbformat_minor": 2
}
